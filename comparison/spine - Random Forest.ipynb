{
 "cells": [
  {
   "cell_type": "markdown",
   "metadata": {},
   "source": [
    "## results from jar"
   ]
  },
  {
   "cell_type": "code",
   "execution_count": 1,
   "metadata": {},
   "outputs": [
    {
     "name": "stdout",
     "output_type": "stream",
     "text": [
      "accuracy = 0.8279569892473119\n",
      "\n"
     ]
    }
   ],
   "source": [
    "import subprocess, re\n",
    "result = subprocess.check_output(['java', '-jar', 'spine-random-forest.jar'])\n",
    "result = result.decode('utf-8')\n",
    "result = re.sub('(.)*accuracy', 'accuracy', result, flags=re.DOTALL)\n",
    "print(result)"
   ]
  },
  {
   "cell_type": "markdown",
   "metadata": {},
   "source": [
    "## sklearn results:"
   ]
  },
  {
   "cell_type": "code",
   "execution_count": 2,
   "metadata": {
    "collapsed": true
   },
   "outputs": [],
   "source": [
    "import numpy as np\n",
    " \n",
    "from sklearn.ensemble import RandomForestClassifier\n",
    "from sklearn.model_selection import train_test_split\n",
    "from sklearn.preprocessing import StandardScaler"
   ]
  },
  {
   "cell_type": "code",
   "execution_count": 3,
   "metadata": {
    "collapsed": true
   },
   "outputs": [],
   "source": [
    "import re\n",
    "def change_format():\n",
    "    with open(\"download/Dataset_spine.csv\") as f:\n",
    "        d = f.readlines()\n",
    "    d = d[1:]\n",
    "    d = [re.sub('ormal(.)*', 'ormal', s) for s in d]\n",
    "    d = [s.replace('Abnormal', '0') for s in d]\n",
    "    d = [s.replace('Normal', '1') for s in d]\n",
    "    with open(\"data_prepared/spine.csv\", \"w\") as f:\n",
    "        f.writelines(d)\n",
    "\n",
    "change_format()"
   ]
  },
  {
   "cell_type": "code",
   "execution_count": 4,
   "metadata": {
    "collapsed": true
   },
   "outputs": [],
   "source": [
    "data = np.loadtxt(\"data_prepared/spine.csv\", delimiter=',')"
   ]
  },
  {
   "cell_type": "code",
   "execution_count": 5,
   "metadata": {
    "collapsed": true
   },
   "outputs": [],
   "source": [
    "data = data[:]"
   ]
  },
  {
   "cell_type": "code",
   "execution_count": 6,
   "metadata": {
    "collapsed": true
   },
   "outputs": [],
   "source": [
    "# print(data.shape)\n",
    "# print(data)"
   ]
  },
  {
   "cell_type": "code",
   "execution_count": 7,
   "metadata": {
    "collapsed": true
   },
   "outputs": [],
   "source": [
    "X = data[:, :-1]\n",
    "y = data[:,-1]"
   ]
  },
  {
   "cell_type": "code",
   "execution_count": 8,
   "metadata": {
    "collapsed": true
   },
   "outputs": [],
   "source": [
    "X_train, X_test, y_train, y_test = train_test_split(X, y, test_size=0.2)"
   ]
  },
  {
   "cell_type": "code",
   "execution_count": 9,
   "metadata": {
    "collapsed": true
   },
   "outputs": [],
   "source": [
    "X_scaler = StandardScaler()\n",
    "X_train_norm = X_scaler.fit_transform(X_train)\n",
    "X_test_norm = X_scaler.transform(X_test)\n",
    "X_train = X_train_norm\n",
    "X_test = X_test_norm"
   ]
  },
  {
   "cell_type": "code",
   "execution_count": 10,
   "metadata": {},
   "outputs": [
    {
     "name": "stdout",
     "output_type": "stream",
     "text": [
      "Random forest = 0.790322580645\n"
     ]
    }
   ],
   "source": [
    "rf = RandomForestClassifier(n_estimators=100, max_depth=16)\n",
    "\n",
    "rf.fit(X_train, y_train)\n",
    "print (\"Random forest = \" + str(rf.score(X_test, y_test)))"
   ]
  },
  {
   "cell_type": "code",
   "execution_count": 11,
   "metadata": {},
   "outputs": [
    {
     "name": "stdout",
     "output_type": "stream",
     "text": [
      "better:  0.741935483871 5 2\n",
      "better:  0.758064516129 5 3\n",
      "better:  0.806451612903 5 4\n",
      "better:  0.854838709677 5 5\n",
      "better:  0.903225806452 5 19\n",
      "better:  0.91935483871 10 9\n",
      "better:  0.935483870968 40 9\n",
      "Random forest = 0.935483870968  with 40 9\n"
     ]
    }
   ],
   "source": [
    "def goes(ne, md):\n",
    "    X_train, X_test, y_train, y_test = train_test_split(X, y, test_size=0.2)\n",
    "\n",
    "    X_scaler = StandardScaler()\n",
    "    X_train_norm = X_scaler.fit_transform(X_train)\n",
    "    X_test_norm = X_scaler.transform(X_test)\n",
    "    X_train = X_train_norm\n",
    "    X_test = X_test_norm\n",
    "\n",
    "    rf = RandomForestClassifier(n_estimators=ne, max_depth=md)\n",
    "\n",
    "    rf.fit(X_train, y_train)\n",
    "    r = rf.score(X_test, y_test)\n",
    "    return r\n",
    "        \n",
    "max_r = None\n",
    "max_ne = 0\n",
    "max_md = 0\n",
    "\n",
    "for ne in range(5, 60, 5):\n",
    "    for md in range(2, 20):\n",
    "        r = goes(ne, md)\n",
    "        if max_r is None or max_r < r:\n",
    "            max_r = r\n",
    "            max_ne = ne\n",
    "            max_md = md\n",
    "            print(\"better: \", max_r, ne, md)\n",
    "        \n",
    "print (\"Random forest = \" + str(max_r) + \"  with \" + str(max_ne) + \" \"+ str(max_md))"
   ]
  },
  {
   "cell_type": "code",
   "execution_count": 12,
   "metadata": {},
   "outputs": [
    {
     "name": "stdout",
     "output_type": "stream",
     "text": [
      "Gradient boosting regression = 0.806451612903\n"
     ]
    }
   ],
   "source": [
    "from sklearn.ensemble import GradientBoostingClassifier\n",
    "\n",
    "clf = GradientBoostingClassifier(n_estimators=100, max_depth=15)\n",
    " \n",
    "clf.fit(X_train, y_train)\n",
    "print (\"Gradient boosting regression = \" + str(clf.score(X_test, y_test)))"
   ]
  }
 ],
 "metadata": {
  "kernelspec": {
   "display_name": "Python 3",
   "language": "python",
   "name": "python3"
  },
  "language_info": {
   "codemirror_mode": {
    "name": "ipython",
    "version": 3
   },
   "file_extension": ".py",
   "mimetype": "text/x-python",
   "name": "python",
   "nbconvert_exporter": "python",
   "pygments_lexer": "ipython3",
   "version": "3.6.1"
  }
 },
 "nbformat": 4,
 "nbformat_minor": 2
}
