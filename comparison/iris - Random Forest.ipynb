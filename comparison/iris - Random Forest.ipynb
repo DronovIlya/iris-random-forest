{
 "cells": [
  {
   "cell_type": "code",
   "execution_count": 1,
   "metadata": {
    "collapsed": true
   },
   "outputs": [],
   "source": [
    "import numpy as np\n",
    " \n",
    "from sklearn.ensemble import RandomForestRegressor, GradientBoostingRegressor\n",
    "from sklearn.model_selection import train_test_split\n",
    "from sklearn.preprocessing import StandardScaler"
   ]
  },
  {
   "cell_type": "code",
   "execution_count": 2,
   "metadata": {
    "collapsed": true
   },
   "outputs": [],
   "source": [
    "def change_format():\n",
    "    with open(\"download/iris-species/Iris.csv\") as f:\n",
    "        d = f.readlines()\n",
    "    d = d[1:]\n",
    "    d = [s.replace('Iris-setosa', '0') for s in d]\n",
    "    d = [s.replace('Iris-versicolor', '1') for s in d]\n",
    "    d = [s.replace('Iris-virginica', '2') for s in d]\n",
    "    with open(\"data_prepared/iris.csv\", \"w\") as f:\n",
    "        f.writelines(d)\n",
    "\n",
    "change_format()"
   ]
  },
  {
   "cell_type": "code",
   "execution_count": 3,
   "metadata": {
    "collapsed": true
   },
   "outputs": [],
   "source": [
    "data = np.loadtxt(\"data_prepared/iris.csv\", delimiter=',')"
   ]
  },
  {
   "cell_type": "code",
   "execution_count": 4,
   "metadata": {
    "collapsed": true
   },
   "outputs": [],
   "source": [
    "# not need id\n",
    "data = data[:, 1:]"
   ]
  },
  {
   "cell_type": "code",
   "execution_count": 5,
   "metadata": {},
   "outputs": [
    {
     "name": "stdout",
     "output_type": "stream",
     "text": [
      "(150, 5)\n",
      "[[ 5.1  3.5  1.4  0.2  0. ]\n",
      " [ 4.9  3.   1.4  0.2  0. ]\n",
      " [ 4.7  3.2  1.3  0.2  0. ]\n",
      " [ 4.6  3.1  1.5  0.2  0. ]\n",
      " [ 5.   3.6  1.4  0.2  0. ]\n",
      " [ 5.4  3.9  1.7  0.4  0. ]\n",
      " [ 4.6  3.4  1.4  0.3  0. ]\n",
      " [ 5.   3.4  1.5  0.2  0. ]\n",
      " [ 4.4  2.9  1.4  0.2  0. ]\n",
      " [ 4.9  3.1  1.5  0.1  0. ]\n",
      " [ 5.4  3.7  1.5  0.2  0. ]\n",
      " [ 4.8  3.4  1.6  0.2  0. ]\n",
      " [ 4.8  3.   1.4  0.1  0. ]\n",
      " [ 4.3  3.   1.1  0.1  0. ]\n",
      " [ 5.8  4.   1.2  0.2  0. ]\n",
      " [ 5.7  4.4  1.5  0.4  0. ]\n",
      " [ 5.4  3.9  1.3  0.4  0. ]\n",
      " [ 5.1  3.5  1.4  0.3  0. ]\n",
      " [ 5.7  3.8  1.7  0.3  0. ]\n",
      " [ 5.1  3.8  1.5  0.3  0. ]\n",
      " [ 5.4  3.4  1.7  0.2  0. ]\n",
      " [ 5.1  3.7  1.5  0.4  0. ]\n",
      " [ 4.6  3.6  1.   0.2  0. ]\n",
      " [ 5.1  3.3  1.7  0.5  0. ]\n",
      " [ 4.8  3.4  1.9  0.2  0. ]\n",
      " [ 5.   3.   1.6  0.2  0. ]\n",
      " [ 5.   3.4  1.6  0.4  0. ]\n",
      " [ 5.2  3.5  1.5  0.2  0. ]\n",
      " [ 5.2  3.4  1.4  0.2  0. ]\n",
      " [ 4.7  3.2  1.6  0.2  0. ]\n",
      " [ 4.8  3.1  1.6  0.2  0. ]\n",
      " [ 5.4  3.4  1.5  0.4  0. ]\n",
      " [ 5.2  4.1  1.5  0.1  0. ]\n",
      " [ 5.5  4.2  1.4  0.2  0. ]\n",
      " [ 4.9  3.1  1.5  0.1  0. ]\n",
      " [ 5.   3.2  1.2  0.2  0. ]\n",
      " [ 5.5  3.5  1.3  0.2  0. ]\n",
      " [ 4.9  3.1  1.5  0.1  0. ]\n",
      " [ 4.4  3.   1.3  0.2  0. ]\n",
      " [ 5.1  3.4  1.5  0.2  0. ]\n",
      " [ 5.   3.5  1.3  0.3  0. ]\n",
      " [ 4.5  2.3  1.3  0.3  0. ]\n",
      " [ 4.4  3.2  1.3  0.2  0. ]\n",
      " [ 5.   3.5  1.6  0.6  0. ]\n",
      " [ 5.1  3.8  1.9  0.4  0. ]\n",
      " [ 4.8  3.   1.4  0.3  0. ]\n",
      " [ 5.1  3.8  1.6  0.2  0. ]\n",
      " [ 4.6  3.2  1.4  0.2  0. ]\n",
      " [ 5.3  3.7  1.5  0.2  0. ]\n",
      " [ 5.   3.3  1.4  0.2  0. ]\n",
      " [ 7.   3.2  4.7  1.4  1. ]\n",
      " [ 6.4  3.2  4.5  1.5  1. ]\n",
      " [ 6.9  3.1  4.9  1.5  1. ]\n",
      " [ 5.5  2.3  4.   1.3  1. ]\n",
      " [ 6.5  2.8  4.6  1.5  1. ]\n",
      " [ 5.7  2.8  4.5  1.3  1. ]\n",
      " [ 6.3  3.3  4.7  1.6  1. ]\n",
      " [ 4.9  2.4  3.3  1.   1. ]\n",
      " [ 6.6  2.9  4.6  1.3  1. ]\n",
      " [ 5.2  2.7  3.9  1.4  1. ]\n",
      " [ 5.   2.   3.5  1.   1. ]\n",
      " [ 5.9  3.   4.2  1.5  1. ]\n",
      " [ 6.   2.2  4.   1.   1. ]\n",
      " [ 6.1  2.9  4.7  1.4  1. ]\n",
      " [ 5.6  2.9  3.6  1.3  1. ]\n",
      " [ 6.7  3.1  4.4  1.4  1. ]\n",
      " [ 5.6  3.   4.5  1.5  1. ]\n",
      " [ 5.8  2.7  4.1  1.   1. ]\n",
      " [ 6.2  2.2  4.5  1.5  1. ]\n",
      " [ 5.6  2.5  3.9  1.1  1. ]\n",
      " [ 5.9  3.2  4.8  1.8  1. ]\n",
      " [ 6.1  2.8  4.   1.3  1. ]\n",
      " [ 6.3  2.5  4.9  1.5  1. ]\n",
      " [ 6.1  2.8  4.7  1.2  1. ]\n",
      " [ 6.4  2.9  4.3  1.3  1. ]\n",
      " [ 6.6  3.   4.4  1.4  1. ]\n",
      " [ 6.8  2.8  4.8  1.4  1. ]\n",
      " [ 6.7  3.   5.   1.7  1. ]\n",
      " [ 6.   2.9  4.5  1.5  1. ]\n",
      " [ 5.7  2.6  3.5  1.   1. ]\n",
      " [ 5.5  2.4  3.8  1.1  1. ]\n",
      " [ 5.5  2.4  3.7  1.   1. ]\n",
      " [ 5.8  2.7  3.9  1.2  1. ]\n",
      " [ 6.   2.7  5.1  1.6  1. ]\n",
      " [ 5.4  3.   4.5  1.5  1. ]\n",
      " [ 6.   3.4  4.5  1.6  1. ]\n",
      " [ 6.7  3.1  4.7  1.5  1. ]\n",
      " [ 6.3  2.3  4.4  1.3  1. ]\n",
      " [ 5.6  3.   4.1  1.3  1. ]\n",
      " [ 5.5  2.5  4.   1.3  1. ]\n",
      " [ 5.5  2.6  4.4  1.2  1. ]\n",
      " [ 6.1  3.   4.6  1.4  1. ]\n",
      " [ 5.8  2.6  4.   1.2  1. ]\n",
      " [ 5.   2.3  3.3  1.   1. ]\n",
      " [ 5.6  2.7  4.2  1.3  1. ]\n",
      " [ 5.7  3.   4.2  1.2  1. ]\n",
      " [ 5.7  2.9  4.2  1.3  1. ]\n",
      " [ 6.2  2.9  4.3  1.3  1. ]\n",
      " [ 5.1  2.5  3.   1.1  1. ]\n",
      " [ 5.7  2.8  4.1  1.3  1. ]\n",
      " [ 6.3  3.3  6.   2.5  2. ]\n",
      " [ 5.8  2.7  5.1  1.9  2. ]\n",
      " [ 7.1  3.   5.9  2.1  2. ]\n",
      " [ 6.3  2.9  5.6  1.8  2. ]\n",
      " [ 6.5  3.   5.8  2.2  2. ]\n",
      " [ 7.6  3.   6.6  2.1  2. ]\n",
      " [ 4.9  2.5  4.5  1.7  2. ]\n",
      " [ 7.3  2.9  6.3  1.8  2. ]\n",
      " [ 6.7  2.5  5.8  1.8  2. ]\n",
      " [ 7.2  3.6  6.1  2.5  2. ]\n",
      " [ 6.5  3.2  5.1  2.   2. ]\n",
      " [ 6.4  2.7  5.3  1.9  2. ]\n",
      " [ 6.8  3.   5.5  2.1  2. ]\n",
      " [ 5.7  2.5  5.   2.   2. ]\n",
      " [ 5.8  2.8  5.1  2.4  2. ]\n",
      " [ 6.4  3.2  5.3  2.3  2. ]\n",
      " [ 6.5  3.   5.5  1.8  2. ]\n",
      " [ 7.7  3.8  6.7  2.2  2. ]\n",
      " [ 7.7  2.6  6.9  2.3  2. ]\n",
      " [ 6.   2.2  5.   1.5  2. ]\n",
      " [ 6.9  3.2  5.7  2.3  2. ]\n",
      " [ 5.6  2.8  4.9  2.   2. ]\n",
      " [ 7.7  2.8  6.7  2.   2. ]\n",
      " [ 6.3  2.7  4.9  1.8  2. ]\n",
      " [ 6.7  3.3  5.7  2.1  2. ]\n",
      " [ 7.2  3.2  6.   1.8  2. ]\n",
      " [ 6.2  2.8  4.8  1.8  2. ]\n",
      " [ 6.1  3.   4.9  1.8  2. ]\n",
      " [ 6.4  2.8  5.6  2.1  2. ]\n",
      " [ 7.2  3.   5.8  1.6  2. ]\n",
      " [ 7.4  2.8  6.1  1.9  2. ]\n",
      " [ 7.9  3.8  6.4  2.   2. ]\n",
      " [ 6.4  2.8  5.6  2.2  2. ]\n",
      " [ 6.3  2.8  5.1  1.5  2. ]\n",
      " [ 6.1  2.6  5.6  1.4  2. ]\n",
      " [ 7.7  3.   6.1  2.3  2. ]\n",
      " [ 6.3  3.4  5.6  2.4  2. ]\n",
      " [ 6.4  3.1  5.5  1.8  2. ]\n",
      " [ 6.   3.   4.8  1.8  2. ]\n",
      " [ 6.9  3.1  5.4  2.1  2. ]\n",
      " [ 6.7  3.1  5.6  2.4  2. ]\n",
      " [ 6.9  3.1  5.1  2.3  2. ]\n",
      " [ 5.8  2.7  5.1  1.9  2. ]\n",
      " [ 6.8  3.2  5.9  2.3  2. ]\n",
      " [ 6.7  3.3  5.7  2.5  2. ]\n",
      " [ 6.7  3.   5.2  2.3  2. ]\n",
      " [ 6.3  2.5  5.   1.9  2. ]\n",
      " [ 6.5  3.   5.2  2.   2. ]\n",
      " [ 6.2  3.4  5.4  2.3  2. ]\n",
      " [ 5.9  3.   5.1  1.8  2. ]]\n"
     ]
    }
   ],
   "source": [
    "print(data.shape)\n",
    "print(data)"
   ]
  },
  {
   "cell_type": "code",
   "execution_count": 6,
   "metadata": {
    "collapsed": true
   },
   "outputs": [],
   "source": [
    "X = data[:, :-1]\n",
    "y = data[:,-1]"
   ]
  },
  {
   "cell_type": "code",
   "execution_count": 7,
   "metadata": {
    "collapsed": true
   },
   "outputs": [],
   "source": [
    "X_train, X_test, y_train, y_test = train_test_split(X, y, random_state=42, test_size=0.33)"
   ]
  },
  {
   "cell_type": "code",
   "execution_count": 8,
   "metadata": {
    "collapsed": true
   },
   "outputs": [],
   "source": [
    "X_scaler = StandardScaler()\n",
    "X_train_norm = X_scaler.fit_transform(X_train)\n",
    "X_test_norm = X_scaler.transform(X_test)\n",
    "X_train = X_train_norm\n",
    "X_test = X_test_norm"
   ]
  },
  {
   "cell_type": "code",
   "execution_count": 9,
   "metadata": {},
   "outputs": [
    {
     "name": "stdout",
     "output_type": "stream",
     "text": [
      "Random forest = 0.984184376795\n"
     ]
    }
   ],
   "source": [
    "rf = RandomForestRegressor(n_estimators=100, max_depth=10)\n",
    "\n",
    "rf.fit(X_train, y_train)\n",
    "print (\"Random forest = \" + str(rf.score(X_test, y_test)))"
   ]
  },
  {
   "cell_type": "code",
   "execution_count": 10,
   "metadata": {},
   "outputs": [
    {
     "name": "stdout",
     "output_type": "stream",
     "text": [
      "Linear regression score = 0.93860522328\n"
     ]
    }
   ],
   "source": [
    "from sklearn.linear_model import LinearRegression\n",
    " \n",
    "lr = LinearRegression()\n",
    " \n",
    "lr.fit(X_train, y_train)\n",
    "print (\"Linear regression score = \" + str(lr.score(X_test, y_test)))"
   ]
  },
  {
   "cell_type": "code",
   "execution_count": 11,
   "metadata": {},
   "outputs": [
    {
     "name": "stdout",
     "output_type": "stream",
     "text": [
      "Gradient boosting regression = 0.985068041174\n"
     ]
    }
   ],
   "source": [
    "clf = GradientBoostingRegressor(n_estimators=500, max_depth=4)\n",
    " \n",
    "clf.fit(X_train, y_train)\n",
    "print (\"Gradient boosting regression = \" + str(clf.score(X_test, y_test)))"
   ]
  },
  {
   "cell_type": "code",
   "execution_count": null,
   "metadata": {
    "collapsed": true
   },
   "outputs": [],
   "source": []
  }
 ],
 "metadata": {
  "kernelspec": {
   "display_name": "Python 3",
   "language": "python",
   "name": "python3"
  },
  "language_info": {
   "codemirror_mode": {
    "name": "ipython",
    "version": 3
   },
   "file_extension": ".py",
   "mimetype": "text/x-python",
   "name": "python",
   "nbconvert_exporter": "python",
   "pygments_lexer": "ipython3",
   "version": "3.6.1"
  }
 },
 "nbformat": 4,
 "nbformat_minor": 2
}
